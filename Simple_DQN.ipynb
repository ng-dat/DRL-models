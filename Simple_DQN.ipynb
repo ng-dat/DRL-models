{
  "nbformat": 4,
  "nbformat_minor": 5,
  "metadata": {
    "kernelspec": {
      "display_name": "Python 3",
      "language": "python",
      "name": "python3"
    },
    "language_info": {
      "codemirror_mode": {
        "name": "ipython",
        "version": 3
      },
      "file_extension": ".py",
      "mimetype": "text/x-python",
      "name": "python",
      "nbconvert_exporter": "python",
      "pygments_lexer": "ipython3",
      "version": "3.7.8"
    },
    "colab": {
      "name": "Simple DQN.ipynb",
      "provenance": [],
      "collapsed_sections": [
        "8e3da308",
        "70e322b3",
        "1cc0a6f0",
        "99c18964"
      ],
      "include_colab_link": true
    }
  },
  "cells": [
    {
      "cell_type": "markdown",
      "metadata": {
        "id": "view-in-github",
        "colab_type": "text"
      },
      "source": [
        "<a href=\"https://colab.research.google.com/github/Nguyencongdat1997/RL.TryOut/blob/developments-ppo/Simple_DQN.ipynb\" target=\"_parent\"><img src=\"https://colab.research.google.com/assets/colab-badge.svg\" alt=\"Open In Colab\"/></a>"
      ]
    },
    {
      "cell_type": "markdown",
      "metadata": {
        "id": "cc011312"
      },
      "source": [
        "# Installization & Import"
      ],
      "id": "cc011312"
    },
    {
      "cell_type": "code",
      "metadata": {
        "scrolled": true,
        "colab": {
          "base_uri": "https://localhost:8080/",
          "height": 323
        },
        "id": "b81d7a86",
        "outputId": "ee1e74e0-1936-48ca-a381-88f080fe83d3"
      },
      "source": [
        "!pip install tensorflow==2.3.1 gym keras-rl2 gym[atari]"
      ],
      "id": "b81d7a86",
      "execution_count": null,
      "outputs": [
        {
          "output_type": "stream",
          "text": [
            "  Found existing installation: h5py 3.1.0\n",
            "    Uninstalling h5py-3.1.0:\n",
            "      Successfully uninstalled h5py-3.1.0\n",
            "  Found existing installation: tensorflow-estimator 2.5.0\n",
            "    Uninstalling tensorflow-estimator-2.5.0:\n",
            "      Successfully uninstalled tensorflow-estimator-2.5.0\n",
            "  Found existing installation: gast 0.4.0\n",
            "    Uninstalling gast-0.4.0:\n",
            "      Successfully uninstalled gast-0.4.0\n",
            "  Found existing installation: tensorflow 2.5.0\n",
            "    Uninstalling tensorflow-2.5.0:\n",
            "      Successfully uninstalled tensorflow-2.5.0\n",
            "Successfully installed gast-0.3.3 h5py-2.10.0 keras-rl2-1.0.5 numpy-1.18.5 tensorflow-2.3.1 tensorflow-estimator-2.3.0\n"
          ],
          "name": "stdout"
        },
        {
          "output_type": "display_data",
          "data": {
            "application/vnd.colab-display-data+json": {
              "pip_warning": {
                "packages": [
                  "numpy"
                ]
              }
            }
          },
          "metadata": {
            "tags": []
          }
        }
      ]
    },
    {
      "cell_type": "code",
      "metadata": {
        "id": "3d4450bd"
      },
      "source": [
        "import gym \n",
        "import random\n",
        "import time\n",
        "\n",
        "import numpy as np\n",
        "import tensorflow as tf\n",
        "from tensorflow import keras \n",
        "from tensorflow.keras.models import Sequential\n",
        "from tensorflow.keras.layers import Dense, Flatten, Convolution2D\n",
        "from tensorflow.keras.optimizers import Adam"
      ],
      "id": "3d4450bd",
      "execution_count": 1,
      "outputs": []
    },
    {
      "cell_type": "markdown",
      "metadata": {
        "id": "e866cf0b"
      },
      "source": [
        "# Environment"
      ],
      "id": "e866cf0b"
    },
    {
      "cell_type": "code",
      "metadata": {
        "id": "13bdfec0"
      },
      "source": [
        "env = gym.make('CartPole-v0')\n",
        "observations = env.observation_space.shape[0]\n",
        "actions = env.action_space.n\n",
        "action_space = [x for x in range(actions)]"
      ],
      "id": "13bdfec0",
      "execution_count": 2,
      "outputs": []
    },
    {
      "cell_type": "code",
      "metadata": {
        "colab": {
          "base_uri": "https://localhost:8080/"
        },
        "id": "06c25dea",
        "outputId": "c09540ac-39ca-4b3c-920e-889d35e4fdb8"
      },
      "source": [
        "print(actions)\n",
        "sample_action = env.action_space.sample()\n",
        "print(sample_action)\n",
        "print(observations)\n",
        "state = env.reset()\n",
        "print(state)\n",
        "state, reward, done, info = env.step(sample_action)\n",
        "print(state, reward, done, info)"
      ],
      "id": "06c25dea",
      "execution_count": 3,
      "outputs": [
        {
          "output_type": "stream",
          "text": [
            "2\n",
            "1\n",
            "4\n",
            "[0.02315373 0.04200671 0.00834748 0.013585  ]\n",
            "[ 0.02399386  0.23700796  0.00861918 -0.27645256] 1.0 False {}\n"
          ],
          "name": "stdout"
        }
      ]
    },
    {
      "cell_type": "code",
      "metadata": {
        "scrolled": true,
        "colab": {
          "base_uri": "https://localhost:8080/"
        },
        "id": "ec66d65b",
        "outputId": "7928825b-0462-4f00-c875-a0d60701505b"
      },
      "source": [
        "episodes = 5\n",
        "for episode in range(1, episodes+1):\n",
        "    state = env.reset()\n",
        "    done = False\n",
        "    score = 0 \n",
        "    \n",
        "    while not done:\n",
        "        # env.render()\n",
        "        action = random.choice(action_space)\n",
        "        n_state, reward, done, info = env.step(action)\n",
        "        score += reward\n",
        "    print('Episode:{} Score:{}'.format(episode, score))\n",
        "env.close()"
      ],
      "id": "ec66d65b",
      "execution_count": 4,
      "outputs": [
        {
          "output_type": "stream",
          "text": [
            "Episode:1 Score:25.0\n",
            "Episode:2 Score:23.0\n",
            "Episode:3 Score:34.0\n",
            "Episode:4 Score:11.0\n",
            "Episode:5 Score:13.0\n"
          ],
          "name": "stdout"
        }
      ]
    },
    {
      "cell_type": "markdown",
      "metadata": {
        "id": "8e3da308"
      },
      "source": [
        "# KerasRL's DQN"
      ],
      "id": "8e3da308"
    },
    {
      "cell_type": "markdown",
      "metadata": {
        "id": "70e322b3"
      },
      "source": [
        "## Import"
      ],
      "id": "70e322b3"
    },
    {
      "cell_type": "code",
      "metadata": {
        "id": "c79a434d",
        "colab": {
          "base_uri": "https://localhost:8080/",
          "height": 333
        },
        "outputId": "fb59e649-b4c3-485a-ce28-ffd181b9d763"
      },
      "source": [
        "from rl.agents import DQNAgent\n",
        "from rl.memory import SequentialMemory\n",
        "from rl.policy import LinearAnnealedPolicy, EpsGreedyQPolicy, BoltzmannQPolicy"
      ],
      "id": "c79a434d",
      "execution_count": 5,
      "outputs": [
        {
          "output_type": "error",
          "ename": "ModuleNotFoundError",
          "evalue": "ignored",
          "traceback": [
            "\u001b[0;31m---------------------------------------------------------------------------\u001b[0m",
            "\u001b[0;31mModuleNotFoundError\u001b[0m                       Traceback (most recent call last)",
            "\u001b[0;32m<ipython-input-5-9a52de42a28d>\u001b[0m in \u001b[0;36m<module>\u001b[0;34m()\u001b[0m\n\u001b[0;32m----> 1\u001b[0;31m \u001b[0;32mfrom\u001b[0m \u001b[0mrl\u001b[0m\u001b[0;34m.\u001b[0m\u001b[0magents\u001b[0m \u001b[0;32mimport\u001b[0m \u001b[0mDQNAgent\u001b[0m\u001b[0;34m\u001b[0m\u001b[0;34m\u001b[0m\u001b[0m\n\u001b[0m\u001b[1;32m      2\u001b[0m \u001b[0;32mfrom\u001b[0m \u001b[0mrl\u001b[0m\u001b[0;34m.\u001b[0m\u001b[0mmemory\u001b[0m \u001b[0;32mimport\u001b[0m \u001b[0mSequentialMemory\u001b[0m\u001b[0;34m\u001b[0m\u001b[0;34m\u001b[0m\u001b[0m\n\u001b[1;32m      3\u001b[0m \u001b[0;32mfrom\u001b[0m \u001b[0mrl\u001b[0m\u001b[0;34m.\u001b[0m\u001b[0mpolicy\u001b[0m \u001b[0;32mimport\u001b[0m \u001b[0mLinearAnnealedPolicy\u001b[0m\u001b[0;34m,\u001b[0m \u001b[0mEpsGreedyQPolicy\u001b[0m\u001b[0;34m,\u001b[0m \u001b[0mBoltzmannQPolicy\u001b[0m\u001b[0;34m\u001b[0m\u001b[0;34m\u001b[0m\u001b[0m\n",
            "\u001b[0;31mModuleNotFoundError\u001b[0m: No module named 'rl'",
            "",
            "\u001b[0;31m---------------------------------------------------------------------------\u001b[0;32m\nNOTE: If your import is failing due to a missing package, you can\nmanually install dependencies using either !pip or !apt.\n\nTo view examples of installing some common dependencies, click the\n\"Open Examples\" button below.\n\u001b[0;31m---------------------------------------------------------------------------\u001b[0m\n"
          ]
        }
      ]
    },
    {
      "cell_type": "markdown",
      "metadata": {
        "id": "1cc0a6f0"
      },
      "source": [
        "## Model"
      ],
      "id": "1cc0a6f0"
    },
    {
      "cell_type": "code",
      "metadata": {
        "id": "efdd7f71"
      },
      "source": [
        "def build_model(observations, actions):\n",
        "    model = Sequential()\n",
        "    model.add(Flatten(input_shape=(1,) + env.observation_space.shape))\n",
        "    model.add(Dense(24, activation='tanh'))\n",
        "    model.add(Dense(48, activation='tanh'))\n",
        "    model.add(Dense(actions, activation='linear'))\n",
        "    return model"
      ],
      "id": "efdd7f71",
      "execution_count": null,
      "outputs": []
    },
    {
      "cell_type": "code",
      "metadata": {
        "id": "f64bd546"
      },
      "source": [
        "model = build_model(observations, actions)"
      ],
      "id": "f64bd546",
      "execution_count": null,
      "outputs": []
    },
    {
      "cell_type": "code",
      "metadata": {
        "id": "f81613b7",
        "outputId": "38ef9b38-2ab3-4a97-e72c-ef2c032690fe"
      },
      "source": [
        "model.summary()"
      ],
      "id": "f81613b7",
      "execution_count": null,
      "outputs": [
        {
          "output_type": "stream",
          "text": [
            "Model: \"sequential\"\n",
            "_________________________________________________________________\n",
            "Layer (type)                 Output Shape              Param #   \n",
            "=================================================================\n",
            "flatten (Flatten)            (None, 4)                 0         \n",
            "_________________________________________________________________\n",
            "dense (Dense)                (None, 24)                120       \n",
            "_________________________________________________________________\n",
            "dense_1 (Dense)              (None, 48)                1200      \n",
            "_________________________________________________________________\n",
            "dense_2 (Dense)              (None, 2)                 98        \n",
            "=================================================================\n",
            "Total params: 1,418\n",
            "Trainable params: 1,418\n",
            "Non-trainable params: 0\n",
            "_________________________________________________________________\n"
          ],
          "name": "stdout"
        }
      ]
    },
    {
      "cell_type": "markdown",
      "metadata": {
        "id": "ac65c994"
      },
      "source": [
        "## DQN"
      ],
      "id": "ac65c994"
    },
    {
      "cell_type": "code",
      "metadata": {
        "id": "f87bfcd4"
      },
      "source": [
        "def build_agent(model, actions):\n",
        "    memory = SequentialMemory(limit=50000, window_length=1)\n",
        "    policy = BoltzmannQPolicy()\n",
        "    dqn = DQNAgent(model=model, nb_actions=actions, memory=memory, nb_steps_warmup=2000,\n",
        "                   target_model_update=1e-2, policy=policy)\n",
        "    dqn.compile(Adam(lr=0.01, decay=0.01), metrics=['mse'])\n",
        "    return dqn"
      ],
      "id": "f87bfcd4",
      "execution_count": null,
      "outputs": []
    },
    {
      "cell_type": "code",
      "metadata": {
        "id": "666c9042"
      },
      "source": [
        "dqn = build_agent(model, actions)"
      ],
      "id": "666c9042",
      "execution_count": null,
      "outputs": []
    },
    {
      "cell_type": "code",
      "metadata": {
        "scrolled": true,
        "id": "35a41482",
        "outputId": "f23aa492-3b7f-4418-9865-124dcb5bcf1e"
      },
      "source": [
        "dqn.fit(env, nb_steps=10000, visualize=False, verbose=1)"
      ],
      "id": "35a41482",
      "execution_count": null,
      "outputs": [
        {
          "output_type": "stream",
          "text": [
            "Training for 10000 steps ...\n",
            "Interval 1 (0 steps performed)\n",
            "10000/10000 [==============================] - 76s 8ms/step - reward: 1.0000\n",
            "done, took 76.169 seconds\n"
          ],
          "name": "stdout"
        },
        {
          "output_type": "execute_result",
          "data": {
            "text/plain": [
              "<tensorflow.python.keras.callbacks.History at 0x1b85b1d8388>"
            ]
          },
          "metadata": {
            "tags": []
          },
          "execution_count": 24
        }
      ]
    },
    {
      "cell_type": "code",
      "metadata": {
        "id": "cac100f0"
      },
      "source": [
        "dqn.save_weights('./trained_models/CartPole/KeraRL/model_10000')"
      ],
      "id": "cac100f0",
      "execution_count": null,
      "outputs": []
    },
    {
      "cell_type": "markdown",
      "metadata": {
        "id": "d6a199df"
      },
      "source": [
        "## Test"
      ],
      "id": "d6a199df"
    },
    {
      "cell_type": "code",
      "metadata": {
        "id": "b57cbef6"
      },
      "source": [
        "dqn.load_weights('./trained_models/CartPole/KeraRL/model_10000')"
      ],
      "id": "b57cbef6",
      "execution_count": null,
      "outputs": []
    },
    {
      "cell_type": "code",
      "metadata": {
        "id": "1c125590",
        "outputId": "47a927f2-8f61-42a0-e0f4-6d1628f093a8"
      },
      "source": [
        "scores = dqn.test(env, nb_episodes=5, visualize=True)\n",
        "print(np.mean(scores.history['episode_reward']))"
      ],
      "id": "1c125590",
      "execution_count": null,
      "outputs": [
        {
          "output_type": "stream",
          "text": [
            "Testing for 5 episodes ...\n",
            "Episode 1: reward: 200.000, steps: 200\n",
            "Episode 2: reward: 200.000, steps: 200\n",
            "Episode 3: reward: 200.000, steps: 200\n",
            "Episode 4: reward: 200.000, steps: 200\n",
            "Episode 5: reward: 200.000, steps: 200\n",
            "200.0\n"
          ],
          "name": "stdout"
        }
      ]
    },
    {
      "cell_type": "code",
      "metadata": {
        "id": "5d005524",
        "outputId": "9c607654-1211-413d-c177-302fa87f6279"
      },
      "source": [
        "episodes = 5\n",
        "for episode in range(episodes):\n",
        "    state = env.reset()\n",
        "    score = 0\n",
        "    while True:\n",
        "        action = dqn.forward(state)\n",
        "        state, reward, done, info = env.step(action)\n",
        "        env.render()\n",
        "        score+=reward\n",
        "        if done:\n",
        "            break\n",
        "    print('Episode: {} score: {}'.format(episode, score))"
      ],
      "id": "5d005524",
      "execution_count": null,
      "outputs": [
        {
          "output_type": "stream",
          "text": [
            "Episode: 0 score: 200.0\n",
            "Episode: 1 score: 200.0\n",
            "Episode: 2 score: 200.0\n",
            "Episode: 3 score: 200.0\n",
            "Episode: 4 score: 200.0\n"
          ],
          "name": "stdout"
        }
      ]
    },
    {
      "cell_type": "markdown",
      "metadata": {
        "id": "99c18964"
      },
      "source": [
        "# Stable baseline"
      ],
      "id": "99c18964"
    },
    {
      "cell_type": "markdown",
      "metadata": {
        "id": "0410385b"
      },
      "source": [
        "## Import"
      ],
      "id": "0410385b"
    },
    {
      "cell_type": "code",
      "metadata": {
        "id": "a3dd36ce"
      },
      "source": [
        "from stable_baselines3.common.cmd_util import make_atari_env\n",
        "from stable_baselines3.common.vec_env import VecFrameStack, DummyVecEnv\n",
        "from stable_baselines3 import PPO, DQN, A2C\n",
        "from stable_baselines3.common.callbacks import BaseCallback\n",
        "from stable_baselines3.common.evaluation import evaluate_policy\n",
        "import numpy as np \n",
        "import os## Import"
      ],
      "id": "a3dd36ce",
      "execution_count": null,
      "outputs": []
    },
    {
      "cell_type": "markdown",
      "metadata": {
        "id": "ae4e04aa"
      },
      "source": [
        "## Callback"
      ],
      "id": "ae4e04aa"
    },
    {
      "cell_type": "code",
      "metadata": {
        "id": "e6b3ce28"
      },
      "source": [
        "class SavingBestTrainingRewardCallback(BaseCallback):\n",
        "    def __init__(self, check_freq:int, save_path: str, verbose=1):\n",
        "        super(SavingBestTrainingRewardCallback, self).__init__(verbose)\n",
        "        self.check_freq = check_freq\n",
        "        self.save_path = save_path\n",
        "    def _init_callback(self):\n",
        "        if self.save_path:\n",
        "            os.makedirs(self.save_path, exist_ok=True)\n",
        "    def _on_step(self):\n",
        "        if self.n_calls % self.check_freq == 0:\n",
        "            model_path = os.path.join(self.save_path, 'model_{}'.format(self.n_calls))\n",
        "            self.model.save(model_path)\n",
        "        return True"
      ],
      "id": "e6b3ce28",
      "execution_count": null,
      "outputs": []
    },
    {
      "cell_type": "code",
      "metadata": {
        "id": "a582de2e"
      },
      "source": [
        "CHECKPOINT_DIR = './trained_models/CartPole/StableBaselines/'\n",
        "LOG_DIR = './logs/CartPole/StableBaselines/'\n",
        "callback = SavingBestTrainingRewardCallback(check_freq=1000, save_path=CHECKPOINT_DIR)"
      ],
      "id": "a582de2e",
      "execution_count": null,
      "outputs": []
    },
    {
      "cell_type": "markdown",
      "metadata": {
        "id": "716a6148"
      },
      "source": [
        "## Train"
      ],
      "id": "716a6148"
    },
    {
      "cell_type": "code",
      "metadata": {
        "id": "848ce634"
      },
      "source": [
        "agent = A2C('MlpPolicy', env, verbose=0, tensorboard_log=LOG_DIR)\n",
        "# agent = DQN('MlpPolicy', env, verbose=0, tensorboard_log=LOG_DIR)\n",
        "#agent = ACER('CnnPolicy', env, verbose=1, tensorboard_log=LOG_DIR)\n",
        "#agent = PPO2('CnnPolicy', env, minibaches=2, verbose=1, tensorboard_log=LOG_DIR)\n",
        "#agent = DQN('CnnPolicy', env, verbose=1, tensorboard_log=LOG_DIR)"
      ],
      "id": "848ce634",
      "execution_count": null,
      "outputs": []
    },
    {
      "cell_type": "code",
      "metadata": {
        "id": "66e2d10f"
      },
      "source": [
        "# trained_agent = A2C.load('./train/model_10000', env=env, tensorboard_log=LOG_DIR)"
      ],
      "id": "66e2d10f",
      "execution_count": null,
      "outputs": []
    },
    {
      "cell_type": "code",
      "metadata": {
        "id": "411d4c48",
        "outputId": "f5942313-0c22-4a7c-9231-19f9d92c5874"
      },
      "source": [
        "agent.learn(total_timesteps= 20000, callback= callback)"
      ],
      "id": "411d4c48",
      "execution_count": null,
      "outputs": [
        {
          "output_type": "execute_result",
          "data": {
            "text/plain": [
              "<stable_baselines3.a2c.a2c.A2C at 0x1bb5fae4908>"
            ]
          },
          "metadata": {
            "tags": []
          },
          "execution_count": 55
        }
      ]
    },
    {
      "cell_type": "markdown",
      "metadata": {
        "id": "8119e0ef"
      },
      "source": [
        "## Test"
      ],
      "id": "8119e0ef"
    },
    {
      "cell_type": "code",
      "metadata": {
        "id": "21ec0994"
      },
      "source": [
        "agent = A2C.load(CHECKPOINT_DIR + '/model_20000', env=env)"
      ],
      "id": "21ec0994",
      "execution_count": null,
      "outputs": []
    },
    {
      "cell_type": "code",
      "metadata": {
        "id": "db76df9c",
        "outputId": "d20ec380-be0b-4910-814a-ab0b4020db48"
      },
      "source": [
        "evaluate_policy(agent, env, n_eval_episodes=10, render=True)"
      ],
      "id": "db76df9c",
      "execution_count": null,
      "outputs": [
        {
          "output_type": "execute_result",
          "data": {
            "text/plain": [
              "(200.0, 0.0)"
            ]
          },
          "metadata": {
            "tags": []
          },
          "execution_count": 56
        }
      ]
    },
    {
      "cell_type": "code",
      "metadata": {
        "id": "e1bfa415",
        "outputId": "4e44379e-58e8-42dd-9198-d596a01d9a53"
      },
      "source": [
        "episodes = 5\n",
        "for episode in range(episodes):\n",
        "    state = env.reset()\n",
        "    score = 0\n",
        "    while True:\n",
        "        action, states = agent.predict(obs)\n",
        "        obs, reward, done, info = env.step(action)\n",
        "        env.render()\n",
        "        score+=reward\n",
        "        if done:\n",
        "            break\n",
        "    print('Episode: {} score: {}'.format(episode, score))"
      ],
      "id": "e1bfa415",
      "execution_count": null,
      "outputs": [
        {
          "output_type": "stream",
          "text": [
            "Episode: 0 score: 197.0\n",
            "Episode: 1 score: 37.0\n",
            "Episode: 2 score: 191.0\n",
            "Episode: 3 score: 118.0\n",
            "Episode: 4 score: 199.0\n"
          ],
          "name": "stdout"
        }
      ]
    },
    {
      "cell_type": "markdown",
      "metadata": {
        "id": "792526cf"
      },
      "source": [
        "# From scratch - Dueling Deep Q - Keras"
      ],
      "id": "792526cf"
    },
    {
      "cell_type": "markdown",
      "metadata": {
        "id": "CM8ybh7UQ5kI"
      },
      "source": [
        "## Replay Buffer"
      ],
      "id": "CM8ybh7UQ5kI"
    },
    {
      "cell_type": "code",
      "metadata": {
        "id": "kfRYechIQ7zO"
      },
      "source": [
        "class ReplayBuffer():\n",
        "  def __init__(self, max_size, input_shape):\n",
        "    self.mem_size = max_size\n",
        "    self.mem_counter = 0\n",
        "    \n",
        "    self.states = np.zeros((self.mem_size, *input_shape), dtype=np.float64)\n",
        "    self.next_states = np.zeros((self.mem_size, *input_shape), dtype=np.float64)\n",
        "    self.rewards = np.zeros(self.mem_size, dtype=np.float64)\n",
        "    self.actions = np.zeros(self.mem_size, dtype=np.int32)\n",
        "    self.done = np.zeros(self.mem_size, dtype=np.bool)\n",
        "\n",
        "  def store_step(self, state, action, reward, next_state, done):\n",
        "    index = self.mem_counter % self.mem_size\n",
        "    self.states[index] = state\n",
        "    self.next_states[index] = next_state\n",
        "    self.actions[index] = action\n",
        "    self.rewards[index] = reward\n",
        "    self.done[index] = done\n",
        "    self.mem_counter += 1\n",
        "\n",
        "  def sample_buffer(self, batch_size):\n",
        "    max_mem = min(self.mem_counter, self.mem_size)\n",
        "    batch = np.random.choice(max_mem, batch_size, replace=False)\n",
        "\n",
        "    states = self.states[batch]\n",
        "    next_states = self.next_states[batch]\n",
        "    rewards = self.rewards[batch]\n",
        "    actions = self.actions[batch]\n",
        "    done = self.done[batch]\n",
        "\n",
        "    return states, actions, rewards, next_states, done\n",
        "    "
      ],
      "id": "kfRYechIQ7zO",
      "execution_count": 6,
      "outputs": []
    },
    {
      "cell_type": "markdown",
      "metadata": {
        "id": "6Xn9jbTsPjI2"
      },
      "source": [
        "## Q Network"
      ],
      "id": "6Xn9jbTsPjI2"
    },
    {
      "cell_type": "code",
      "metadata": {
        "id": "O09zF-WHPhFv"
      },
      "source": [
        "class DuelingDeepQNetwork(keras.Model):\n",
        "  def __init__(self, n_actions):\n",
        "    super(DuelingDeepQNetwork, self).__init__()\n",
        "\n",
        "    fc1_dims = 128\n",
        "    fc2_dims = 128\n",
        "    self.dense1 = keras.layers.Dense(fc1_dims, activation='relu')\n",
        "    self.dense2 = keras.layers.Dense(fc2_dims, activation='relu')\n",
        "    self.V = keras.layers.Dense(1, activation=None)\n",
        "    self.A = keras.layers.Dense(n_actions, activation=None)\n",
        "\n",
        "  def call(self, state):\n",
        "    x = self.dense1(state)\n",
        "    x = self.dense2(x)\n",
        "    V = self.V(x)\n",
        "    A = self.A(x)\n",
        "\n",
        "    Q = (V + (A - tf.math.reduce_mean(A, axis=1, keepdims=True)))\n",
        "    return Q\n",
        "\n",
        "  def advantage(self, state):\n",
        "    x = self.dense1(state)\n",
        "    x = self.dense2(x)    \n",
        "    A = self.A(x)\n",
        "    return A  \n"
      ],
      "id": "O09zF-WHPhFv",
      "execution_count": 7,
      "outputs": []
    },
    {
      "cell_type": "markdown",
      "metadata": {
        "id": "EO4dmDllS5ng"
      },
      "source": [
        "## Agent"
      ],
      "id": "EO4dmDllS5ng"
    },
    {
      "cell_type": "code",
      "metadata": {
        "id": "ub0jKpvgS7U2"
      },
      "source": [
        "class Agent():\n",
        "  def __init__(self, lr, gamma, n_actions, epsilon, batch_size, input_dims, epsilon_dec=1e-3, epsilon_end=0.01, mem_size=1000000, replace=100):\n",
        "    self.action_space = [i for i in range(actions)]\n",
        "    self.gamma =gamma\n",
        "    self.epsilon = epsilon\n",
        "    self.epsilon_dec = epsilon_dec\n",
        "    self.epsilon_end = epsilon_end\n",
        "    self.replace = replace\n",
        "    self.batch_size = batch_size\n",
        "\n",
        "    self.learned_step_counter = 0\n",
        "    self.memory = ReplayBuffer(mem_size, input_dims)\n",
        "    self.q_active =  DuelingDeepQNetwork(n_actions)\n",
        "    self.q_frozen =  DuelingDeepQNetwork(n_actions)\n",
        "\n",
        "    self.q_active.compile(optimizer=Adam(learning_rate=lr), loss='mean_squared_error')\n",
        "    self.q_frozen.compile(optimizer=Adam(learning_rate=lr), loss='mean_squared_error')\n",
        "\n",
        "  def store_step(self, state, action, reward, next_state, done):\n",
        "    self.memory.store_step(state, action, reward, next_state, done)\n",
        "  \n",
        "  def choose_action(self, observation):\n",
        "    if np.random.random() < self.epsilon:\n",
        "      action = np.random.choice(self.action_space)\n",
        "    else:\n",
        "      state = np.array([observation])\n",
        "      actions = self.q_active.advantage(state)\n",
        "      action = tf.math.argmax(actions, axis=1).numpy()[0]\n",
        "    return action\n",
        "\n",
        "  def learn(self):\n",
        "    if self.memory.mem_counter < self.batch_size:\n",
        "      return\n",
        "    \n",
        "    if self.learned_step_counter % self.replace == 0:\n",
        "      self.q_frozen.set_weights(self.q_active.get_weights())\n",
        "\n",
        "    # get data\n",
        "    states, actions, rewards, next_states, dones = self.memory.sample_buffer(self.batch_size)\n",
        "    q_pred = self.q_active(states)\n",
        "    q_next = self.q_frozen(next_states)\n",
        "    q_target = q_pred.numpy()\n",
        "    max_next_actions = tf.math.argmax(self.q_active(next_states), axis=1)\n",
        "    for i, terminated in enumerate(dones):\n",
        "      q_target[i, actions[i]] = rewards[i] + self.gamma*q_next[i, max_next_actions[i]]*(1-int(dones[i]))\n",
        "\n",
        "    # train\n",
        "    self.q_active.train_on_batch(states, q_target)\n",
        "\n",
        "    self.epsilon = max(self.epsilon - self.epsilon_dec, self.epsilon_end)\n",
        "    self.learned_step_counter += 1\n",
        "\n",
        "  def train(self, env, n_games):\n",
        "    scores = []\n",
        "    eps_history = []\n",
        "    steps = 0\n",
        "    for i in range(n_games):\n",
        "      done = False\n",
        "      score = 0\n",
        "      observation = env.reset()\n",
        "      while not done:\n",
        "        steps += 1\n",
        "        action = self.choose_action(observation)\n",
        "        next_observation, reward, done, info = env.step(action)\n",
        "        score += reward\n",
        "        self.store_step(observation, action, reward, next_observation, done)\n",
        "        observation = next_observation\n",
        "        self.learn()\n",
        "      eps_history.append(self.epsilon)\n",
        "      scores.append(score)\n",
        "      avg_score = np.mean(scores[-10:])\n",
        "      print('Episode', i, '- trained steps', steps, '- score %.1f'%score, '- avg_score %.1f ' % avg_score)\n",
        "\n",
        "  def save_model(self, train_dir):\n",
        "    file_name = train_dir + '/d3qn_' + str(self.learned_step_counter) + '/model'\n",
        "    #self.q_active.save_weights(file_name)\n",
        "    self.q_active.save_weights(file_name, save_format='tf')\n",
        "\n",
        "  def load_model(self, train_dir, learned_steps = 100):\n",
        "    file_name = train_dir + '/d3qn_' + str(learned_steps) + '/model' \n",
        "    self.q_active.load_weights(file_name)\n",
        "    self.q_frozen.set_weights(self.q_active.get_weights())\n"
      ],
      "id": "ub0jKpvgS7U2",
      "execution_count": 8,
      "outputs": []
    },
    {
      "cell_type": "markdown",
      "metadata": {
        "id": "CcUQlfdjXUIG"
      },
      "source": [
        "## Train"
      ],
      "id": "CcUQlfdjXUIG"
    },
    {
      "cell_type": "code",
      "metadata": {
        "id": "OxkII7xYXUfk"
      },
      "source": [
        "d3qn = Agent(lr=0.005, gamma=0.99, n_actions=env.action_space.n, epsilon=1.0, batch_size=64, input_dims=env.observation_space.shape)"
      ],
      "id": "OxkII7xYXUfk",
      "execution_count": 9,
      "outputs": []
    },
    {
      "cell_type": "code",
      "metadata": {
        "id": "7NUIsVPCZ3nW"
      },
      "source": [
        "n_games = 100\n",
        "d3qn.train(env, n_games)"
      ],
      "id": "7NUIsVPCZ3nW",
      "execution_count": null,
      "outputs": []
    },
    {
      "cell_type": "code",
      "metadata": {
        "colab": {
          "base_uri": "https://localhost:8080/"
        },
        "id": "6lio08_Iqg5w",
        "outputId": "c6c452fe-77da-44d3-9238-87b03a657514"
      },
      "source": [
        "d3qn.epsilon = 0.0\n",
        "episodes = 5\n",
        "for episode in range(episodes):\n",
        "    state = env.reset()\n",
        "    score = 0\n",
        "    while True:\n",
        "        action = d3qn.choose_action(state)\n",
        "        state, reward, done, info = env.step(action)\n",
        "        #env.render()\n",
        "        score+=reward\n",
        "        if done:\n",
        "            break\n",
        "    print('Episode: {} score: {}'.format(episode, score))"
      ],
      "id": "6lio08_Iqg5w",
      "execution_count": 11,
      "outputs": [
        {
          "output_type": "stream",
          "text": [
            "Episode: 0 score: 44.0\n",
            "Episode: 1 score: 51.0\n",
            "Episode: 2 score: 61.0\n",
            "Episode: 3 score: 77.0\n",
            "Episode: 4 score: 59.0\n"
          ],
          "name": "stdout"
        }
      ]
    },
    {
      "cell_type": "code",
      "metadata": {
        "id": "c7SAiEb8f0p5"
      },
      "source": [
        "#train_dir = './trained_models/CartPole/DuelingDeepQ'\n",
        "train_dir = '.'\n",
        "d3qn.epsilon = 0.0\n",
        "d3qn.save_model(train_dir)"
      ],
      "id": "c7SAiEb8f0p5",
      "execution_count": 12,
      "outputs": []
    },
    {
      "cell_type": "markdown",
      "metadata": {
        "id": "jrl2q5tlkUUh"
      },
      "source": [
        "## Test"
      ],
      "id": "jrl2q5tlkUUh"
    },
    {
      "cell_type": "code",
      "metadata": {
        "id": "VPpN4cwlkXwa"
      },
      "source": [
        "trained_d3qn = Agent(lr=0.005, gamma=0.99, n_actions=env.action_space.n, epsilon=0.0, batch_size=64, input_dims=env.observation_space.shape)\n",
        "trained_d3qn.load_model(train_dir, learned_steps=469)"
      ],
      "id": "VPpN4cwlkXwa",
      "execution_count": 14,
      "outputs": []
    },
    {
      "cell_type": "code",
      "metadata": {
        "colab": {
          "base_uri": "https://localhost:8080/"
        },
        "id": "3oDodUSoklqc",
        "outputId": "98cdc035-946b-4375-9c95-6dff8ff0cfce"
      },
      "source": [
        "episodes = 5\n",
        "for episode in range(episodes):\n",
        "    state = env.reset()\n",
        "    score = 0\n",
        "    while True:\n",
        "        action = trained_d3qn.choose_action(state)\n",
        "        state, reward, done, info = env.step(action)\n",
        "        #env.render()\n",
        "        score+=reward\n",
        "        if done:\n",
        "            break\n",
        "    print('Episode: {} score: {}'.format(episode, score))"
      ],
      "id": "3oDodUSoklqc",
      "execution_count": 15,
      "outputs": [
        {
          "output_type": "stream",
          "text": [
            "Episode: 0 score: 53.0\n",
            "Episode: 1 score: 57.0\n",
            "Episode: 2 score: 58.0\n",
            "Episode: 3 score: 61.0\n",
            "Episode: 4 score: 54.0\n"
          ],
          "name": "stdout"
        }
      ]
    }
  ]
}